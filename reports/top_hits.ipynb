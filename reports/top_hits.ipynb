{
  "cells": [
    {
      "cell_type": "code",
      "metadata": {},
      "source": [
        "import pandas as pd\n",
        "import matplotlib.pyplot as plt\n",
        "from rdkit import Chem\n",
        "from rdkit.Chem import Draw\n",
        "import random\n",
        "\n",
        "random.seed(42)\n",
        "df = pd.read_csv('data/results/rescored_hits.csv')\n",
        "df_sorted = df.sort_values('consensus', ascending=True).head(10)\n",
        "\n",
        "mols = [Chem.MolFromSmiles(s) for s in df_sorted['smiles']]\n",
        "img = Draw.MolsToGridImage(mols, molsPerRow=5, subImgSize=(200,200), legends=[f\"{row['id']} {row['consensus']:.2f}\" for _, row in df_sorted.iterrows()])\n",
        "img.save('reports/top_hits.png')\n",
        "\n",
        "df_sorted.to_html('reports/top_hits.html')\n",
        "df_sorted"
      ],
      "execution_count": null,
      "outputs": []
    }
  ],
  "metadata": {
    "kernelspec": {
      "display_name": "Python 3",
      "language": "python",
      "name": "python3"
    },
    "language_info": {
      "name": "python",
      "version": "3.10"
    }
  },
  "nbformat": 4,
  "nbformat_minor": 5
}